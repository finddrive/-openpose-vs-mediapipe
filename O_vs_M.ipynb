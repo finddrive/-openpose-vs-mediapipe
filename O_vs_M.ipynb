{
  "nbformat": 4,
  "nbformat_minor": 0,
  "metadata": {
    "colab": {
      "name": "Openpose_counter.ipynb",
      "provenance": [],
      "collapsed_sections": [],
      "mount_file_id": "1wDZ0tE7LocCD85swwSRez0L6PpE7sG-5",
      "authorship_tag": "ABX9TyPkAciDc53fSa8AZDSkqdu4",
      "include_colab_link": true
    },
    "kernelspec": {
      "name": "python3",
      "display_name": "Python 3"
    },
    "language_info": {
      "name": "python"
    },
    "accelerator": "GPU"
  },
  "cells": [
    {
      "cell_type": "markdown",
      "metadata": {
        "id": "view-in-github",
        "colab_type": "text"
      },
      "source": [
        "<a href=\"https://colab.research.google.com/github/finddrive/-openpose-vs-mediapipe/blob/main/O_vs_M.ipynb\" target=\"_parent\"><img src=\"https://colab.research.google.com/assets/colab-badge.svg\" alt=\"Open In Colab\"/></a>"
      ]
    },
    {
      "cell_type": "code",
      "execution_count": null,
      "metadata": {
        "colab": {
          "base_uri": "https://localhost:8080/"
        },
        "id": "4ZpLlaz_mSYf",
        "outputId": "9cd8bd2a-9400-435b-f3f9-c207c8250860"
      },
      "outputs": [
        {
          "output_type": "stream",
          "name": "stdout",
          "text": [
            "Mounted at /content/drive\n"
          ]
        }
      ],
      "source": [
        "from google.colab import drive\n",
        "drive.mount(\"/content/drive\")"
      ]
    },
    {
      "cell_type": "code",
      "source": [
        "import os\n",
        "os.chdir(\"/content/drive/MyDrive/openpose-counter\")\n",
        "!ls"
      ],
      "metadata": {
        "colab": {
          "base_uri": "https://localhost:8080/"
        },
        "id": "9FwezyXjocxh",
        "outputId": "9cd84933-cf27-43ec-a4cc-6c79b176bed4"
      },
      "execution_count": null,
      "outputs": [
        {
          "output_type": "stream",
          "name": "stdout",
          "text": [
            "JR1.mp4  models\n"
          ]
        }
      ]
    },
    {
      "cell_type": "code",
      "source": [
        "# 判断相对位置\n",
        "def curr_dy(pre_dy, y_mean1, y_mean2, y_mean3):\n",
        "    return (pre_dy + np.sign(y_mean2-y_mean1) + np.sign(y_mean3-y_mean2))/3\n",
        "\n",
        "# 定长数组\n",
        "def arry_stat(stat,num):\n",
        "    if len(stat)>=6:\n",
        "        del stat[0]  \n",
        "    stat.append(num)\n",
        "    \n",
        "# 计数\n",
        "def if_add(stat,swings):\n",
        "    if stat[0]==1 and stat[1]==1 and stat[2]==1 and stat[3]==-1 and stat[4]==-1 and stat[5]==-1:\n",
        "        return swings+1\n",
        "    else:\n",
        "        return swings"
      ],
      "metadata": {
        "id": "VeFD0eag1Zc6"
      },
      "execution_count": null,
      "outputs": []
    },
    {
      "cell_type": "markdown",
      "source": [
        "open_pose"
      ],
      "metadata": {
        "id": "QXxB0o0umnIP"
      }
    },
    {
      "cell_type": "code",
      "source": [
        "# Imprt Libraries\n",
        "from scipy.spatial import distance as dist\n",
        "import numpy as np\n",
        "import pandas as pd\n",
        "import progressbar\n",
        "import cv2\n",
        "import time\n",
        "\n",
        "# Necessary Paths\n",
        "protoFile = \"/content/drive/MyDrive/openpose-counter/models/pose/mpi/pose_deploy_linevec_faster_4_stages.prototxt\"\n",
        "weightsFile = \"/content/drive/MyDrive/DriveUploader/pose_iter_160000.caffemodel\"\n",
        "\n",
        "video_path = '/content/drive/MyDrive/openpose-counter/JR4.mp4'\n",
        "#csv_path = 'out_11.csv'\n",
        "\n",
        "# Load the model and the weights\n",
        "net = cv2.dnn.readNetFromCaffe(protoFile, weightsFile)\n",
        "\n",
        "# Store the input video specifics\n",
        "cap = cv2.VideoCapture(video_path)\n",
        "n_frames = int(cap.get(cv2.CAP_PROP_FRAME_COUNT))\n",
        "fps = int(cap.get(cv2.CAP_PROP_FPS))\n",
        "ok, frame = cap.read()\n",
        "(frameHeight, frameWidth) = frame.shape[:2]\n",
        "h = 500\n",
        "w = int((h/frameHeight) * frameWidth)\n",
        "\n",
        "# Dimensions for inputing into the model\n",
        "inHeight = 368\n",
        "inWidth = 368\n",
        "\n",
        "# Set up the progressbar\n",
        "widgets = [\"--[INFO]-- Analyzing Video: \", progressbar.Percentage(), \" \",\n",
        "           progressbar.Bar(), \" \", progressbar.ETA()]\n",
        "pbar = progressbar.ProgressBar(maxval = n_frames,\n",
        "                               widgets=widgets).start()\n",
        "p = 0\n",
        "\n",
        "data = []\n",
        "previous_x, previous_y = [0,0,0,0,0,0,0,0,0,0,0,0,0,0,0,0],[0,0,0,0,0,0,0,0,0,0,0,0,0,0,0,0]\n",
        "\n",
        "# Define the output\n",
        "out_path = 'out_11.mp4'\n",
        "output = cv2.VideoWriter(out_path, 0, fps, (w, h))\n",
        "\n",
        "fourcc = cv2.VideoWriter_fourcc(*'MP4V')\n",
        "writer = None\n",
        "(f_h, f_w) = (h, w)\n",
        "zeros = None\n",
        "\n",
        "# There are 15 points in the skeleton\n",
        "pairs = [[0,1], # head 0-1\n",
        "         [1,2],[1,5], # sholders 1-2,1-5\n",
        "         [2,3],[3,4],[5,6],[6,7], # arms\n",
        "         [1,14],[14,11],[14,8], # hips\n",
        "         [8,9],[9,10],[11,12],[12,13]] # legs\n",
        "# 头：1，肩膀2,5，中间：14，hip：11，8\n",
        "dyB_previous_round = 0\n",
        "posymean = []\n",
        "frame_count = 0\n",
        "jump_count = 0\n",
        "stat_B =[]  #连续6帧的状态\n",
        "\n",
        "\n",
        "\n",
        "#记录帧\n",
        "start_time = time.time()\n",
        "counter = 0\n",
        "store_F_fps = []\n",
        "tmp = []\n",
        "\n",
        "# probability threshold fro prediction of the coordinates\n",
        "thresh = 0.1 \n",
        "\n",
        "circle_color, line_color = (0,255,255), (0,255,0)\n",
        "\n",
        "# Start the iteration\n",
        "while True:\n",
        "    ok, frame = cap.read()\n",
        "\n",
        "    if ok != True:\n",
        "        break\n",
        "    \n",
        "    frame = cv2.resize(frame, (w, h), cv2.INTER_AREA)    \n",
        "    frame_copy = np.copy(frame)\n",
        "    \n",
        "    # Input the frame into the model\n",
        "    inpBlob = cv2.dnn.blobFromImage(frame_copy, 1.0 / 255, (inWidth, inHeight), (0, 0, 0), swapRB=False, crop=False)\n",
        "    net.setInput(inpBlob)\n",
        "    output = net.forward()\n",
        "    \n",
        "    H = output.shape[2]\n",
        "    W = output.shape[3]\n",
        "    \n",
        "    points = []\n",
        "    x_data, y_data = [], []\n",
        "    \n",
        "    # Iterate through the returned output and store the data\n",
        "    for i in range(15):\n",
        "        probMap = output[0, i, :, :]\n",
        "        minVal, prob, minLoc, point = cv2.minMaxLoc(probMap)  #矩阵中的最小值，最大值，并得到位置\n",
        "        x = (w * point[0]) / W\n",
        "        y = (h * point[1]) / H\n",
        "        \n",
        "        if prob > thresh:\n",
        "            points.append((int(x), int(y)))\n",
        "            x_data.append(x)\n",
        "            y_data.append(y)\n",
        "        else :\n",
        "            points.append((0, 0))\n",
        "            x_data.append(previous_x[i])\n",
        "            y_data.append(previous_y[i])\n",
        "    \n",
        "    posy = []   #本轮躯干位置 头：1，肩膀：2,5，中间：14，hip：11，8\n",
        "    for i in range(len(points)):\n",
        "        cv2.circle(frame_copy, (points[i][0], points[i][1]), 2, circle_color, -1)\n",
        "        if i==2 or i==5 or i==14 or i==11 or i==8:\n",
        "          posy.append(points[i][1])\n",
        "    posymean.append(np.mean(posy))\n",
        "    if frame_count>1:\n",
        "        #当前轮的相对位置\n",
        "        dyB_current_round = curr_dy(dyB_previous_round,posymean[-1],posymean[-2],posymean[-3])\n",
        "        \n",
        "        #相较于上一轮是up or down\n",
        "        arry_stat(stat_B, np.sign(dyB_current_round-dyB_previous_round))\n",
        "        dyB_previous_round = dyB_current_round                                                         \n",
        "        if frame_count>9:   #比较i，i+1,i+2->第一轮从第9帧开始\n",
        "            jump_count = if_add(stat_B,jump_count)\n",
        "\n",
        "    for pair in pairs:\n",
        "        partA = pair[0]\n",
        "        partB = pair[1]\n",
        "        cv2.line(frame_copy, points[partA], points[partB], line_color, 1, lineType=cv2.LINE_AA)\n",
        "\n",
        "    cv2.putText(frame_copy,\"jumps: {}\".format(jump_count),(5,40),cv2.FONT_HERSHEY_SIMPLEX,0.5,(0,255,0),2)\n",
        "    \n",
        "    if writer is None:\n",
        "        writer = cv2.VideoWriter(out_path, fourcc, fps, (f_w, f_h), True)\n",
        "        zeros = np.zeros((f_h, f_w), dtype=\"uint8\")\n",
        "    \n",
        "    writer.write(cv2.resize(frame_copy,(f_w, f_h)))\n",
        "    \n",
        "    #cv2.imshow('frame' ,frame_copy)\n",
        "    \n",
        "    #data.append(x_data + y_data)\n",
        "    previous_x, previous_y = x_data, y_data\n",
        "    \n",
        "    p += 1\n",
        "    frame_count += 1\n",
        "    pbar.update(p)\n",
        "    counter += 1\n",
        "\n",
        "    if (time.time() - start_time) != 0:  # 实时显示帧数\n",
        "      # cv2.putText(frame_copy, \"FPS {0}\".format(float('%.1f' % (counter / (time.time() - start_time)))), (30, 430),\n",
        "      #             cv2.FONT_HERSHEY_SIMPLEX, 1, (255, 255, 255), 5)\n",
        "      tmp.append(round(counter / (time.time() - start_time),4))\n",
        "      print(\"tmp\",tmp)\n",
        "      if len(tmp)==10: # 每60帧一个平均值\n",
        "        store_F_fps.append(round(np.mean(tmp),4))\n",
        "        print(\"storage\", store_F_fps)\n",
        "        tmp = []\n",
        "      counter = 0\n",
        "      start_time = time.time()\n",
        "    \n",
        "    key = cv2.waitKey(1) & 0xFF\n",
        " \n",
        "    if key == ord(\"q\"):\n",
        "        break\n",
        "\n",
        "# Save the output data from the video in CSV format\n",
        "#df = pd.DataFrame(data)\n",
        "#df.to_csv(csv_path, index = False)\n",
        "print('save complete')\n",
        "\n",
        "pbar.finish()\n",
        "cap.release()\n",
        "cv2.destroyAllWindows()"
      ],
      "metadata": {
        "colab": {
          "base_uri": "https://localhost:8080/"
        },
        "id": "oEKvdpyampbY",
        "outputId": "3dcbaad3-2ca3-4b49-d297-dfcc1a5dda88"
      },
      "execution_count": null,
      "outputs": [
        {
          "output_type": "stream",
          "name": "stderr",
          "text": [
            "--[INFO]-- Analyzing Video:   1% |                             | ETA:   0:09:18"
          ]
        },
        {
          "output_type": "stream",
          "name": "stdout",
          "text": [
            "tmp [0.1614]\n"
          ]
        },
        {
          "output_type": "stream",
          "name": "stderr",
          "text": [
            "\r                                                                               \r\r--[INFO]-- Analyzing Video:   2% |                             | ETA:   0:09:08"
          ]
        },
        {
          "output_type": "stream",
          "name": "stdout",
          "text": [
            "tmp [0.1614, 0.1631]\n"
          ]
        },
        {
          "output_type": "stream",
          "name": "stderr",
          "text": [
            "\r                                                                               \r\r--[INFO]-- Analyzing Video:   3% |                             | ETA:   0:09:04"
          ]
        },
        {
          "output_type": "stream",
          "name": "stdout",
          "text": [
            "tmp [0.1614, 0.1631, 0.1606]\n"
          ]
        },
        {
          "output_type": "stream",
          "name": "stderr",
          "text": [
            "\r                                                                               \r\r--[INFO]-- Analyzing Video:   4% |#                            | ETA:   0:08:59"
          ]
        },
        {
          "output_type": "stream",
          "name": "stdout",
          "text": [
            "tmp [0.1614, 0.1631, 0.1606, 0.16]\n"
          ]
        },
        {
          "output_type": "stream",
          "name": "stderr",
          "text": [
            "\r                                                                               \r\r--[INFO]-- Analyzing Video:   5% |#                            | ETA:   0:08:52"
          ]
        },
        {
          "output_type": "stream",
          "name": "stdout",
          "text": [
            "tmp [0.1614, 0.1631, 0.1606, 0.16, 0.1623]\n"
          ]
        },
        {
          "output_type": "stream",
          "name": "stderr",
          "text": [
            "\r                                                                               \r\r--[INFO]-- Analyzing Video:   6% |#                            | ETA:   0:08:45"
          ]
        },
        {
          "output_type": "stream",
          "name": "stdout",
          "text": [
            "tmp [0.1614, 0.1631, 0.1606, 0.16, 0.1623, 0.1632]\n"
          ]
        },
        {
          "output_type": "stream",
          "name": "stderr",
          "text": [
            "\r                                                                               \r\r--[INFO]-- Analyzing Video:   7% |##                           | ETA:   0:08:39"
          ]
        },
        {
          "output_type": "stream",
          "name": "stdout",
          "text": [
            "tmp [0.1614, 0.1631, 0.1606, 0.16, 0.1623, 0.1632, 0.1623]\n"
          ]
        },
        {
          "output_type": "stream",
          "name": "stderr",
          "text": [
            "\r                                                                               \r\r--[INFO]-- Analyzing Video:   8% |##                           | ETA:   0:08:32"
          ]
        },
        {
          "output_type": "stream",
          "name": "stdout",
          "text": [
            "tmp [0.1614, 0.1631, 0.1606, 0.16, 0.1623, 0.1632, 0.1623, 0.1626]\n"
          ]
        },
        {
          "output_type": "stream",
          "name": "stderr",
          "text": [
            "\r                                                                               \r\r--[INFO]-- Analyzing Video:   9% |##                           | ETA:   0:08:26"
          ]
        },
        {
          "output_type": "stream",
          "name": "stdout",
          "text": [
            "tmp [0.1614, 0.1631, 0.1606, 0.16, 0.1623, 0.1632, 0.1623, 0.1626, 0.1614]\n"
          ]
        },
        {
          "output_type": "stream",
          "name": "stderr",
          "text": [
            "\r                                                                               \r\r--[INFO]-- Analyzing Video:  10% |###                          | ETA:   0:08:20"
          ]
        },
        {
          "output_type": "stream",
          "name": "stdout",
          "text": [
            "tmp [0.1614, 0.1631, 0.1606, 0.16, 0.1623, 0.1632, 0.1623, 0.1626, 0.1614, 0.1634]\n",
            "storage [0.162]\n"
          ]
        },
        {
          "output_type": "stream",
          "name": "stderr",
          "text": [
            "\r                                                                               \r\r--[INFO]-- Analyzing Video:  12% |###                          | ETA:   0:08:14"
          ]
        },
        {
          "output_type": "stream",
          "name": "stdout",
          "text": [
            "tmp [0.1603]\n"
          ]
        },
        {
          "output_type": "stream",
          "name": "stderr",
          "text": [
            "\r                                                                               \r\r--[INFO]-- Analyzing Video:  13% |###                          | ETA:   0:08:08"
          ]
        },
        {
          "output_type": "stream",
          "name": "stdout",
          "text": [
            "tmp [0.1603, 0.1613]\n"
          ]
        },
        {
          "output_type": "stream",
          "name": "stderr",
          "text": [
            "\r                                                                               \r\r--[INFO]-- Analyzing Video:  14% |####                         | ETA:   0:08:01"
          ]
        },
        {
          "output_type": "stream",
          "name": "stdout",
          "text": [
            "tmp [0.1603, 0.1613, 0.1628]\n"
          ]
        },
        {
          "output_type": "stream",
          "name": "stderr",
          "text": [
            "\r                                                                               \r\r--[INFO]-- Analyzing Video:  15% |####                         | ETA:   0:07:55"
          ]
        },
        {
          "output_type": "stream",
          "name": "stdout",
          "text": [
            "tmp [0.1603, 0.1613, 0.1628, 0.1615]\n"
          ]
        },
        {
          "output_type": "stream",
          "name": "stderr",
          "text": [
            "\r                                                                               \r\r--[INFO]-- Analyzing Video:  16% |####                         | ETA:   0:07:49"
          ]
        },
        {
          "output_type": "stream",
          "name": "stdout",
          "text": [
            "tmp [0.1603, 0.1613, 0.1628, 0.1615, 0.1618]\n"
          ]
        },
        {
          "output_type": "stream",
          "name": "stderr",
          "text": [
            "\r                                                                               \r\r--[INFO]-- Analyzing Video:  17% |#####                        | ETA:   0:07:43"
          ]
        },
        {
          "output_type": "stream",
          "name": "stdout",
          "text": [
            "tmp [0.1603, 0.1613, 0.1628, 0.1615, 0.1618, 0.1623]\n"
          ]
        },
        {
          "output_type": "stream",
          "name": "stderr",
          "text": [
            "\r                                                                               \r\r--[INFO]-- Analyzing Video:  18% |#####                        | ETA:   0:07:37"
          ]
        },
        {
          "output_type": "stream",
          "name": "stdout",
          "text": [
            "tmp [0.1603, 0.1613, 0.1628, 0.1615, 0.1618, 0.1623, 0.1628]\n"
          ]
        },
        {
          "output_type": "stream",
          "name": "stderr",
          "text": [
            "\r                                                                               \r\r--[INFO]-- Analyzing Video:  19% |#####                        | ETA:   0:07:30"
          ]
        },
        {
          "output_type": "stream",
          "name": "stdout",
          "text": [
            "tmp [0.1603, 0.1613, 0.1628, 0.1615, 0.1618, 0.1623, 0.1628, 0.162]\n"
          ]
        },
        {
          "output_type": "stream",
          "name": "stderr",
          "text": [
            "\r                                                                               \r\r--[INFO]-- Analyzing Video:  20% |######                       | ETA:   0:07:24"
          ]
        },
        {
          "output_type": "stream",
          "name": "stdout",
          "text": [
            "tmp [0.1603, 0.1613, 0.1628, 0.1615, 0.1618, 0.1623, 0.1628, 0.162, 0.1628]\n"
          ]
        },
        {
          "output_type": "stream",
          "name": "stderr",
          "text": [
            "\r                                                                               \r\r--[INFO]-- Analyzing Video:  21% |######                       | ETA:   0:07:18"
          ]
        },
        {
          "output_type": "stream",
          "name": "stdout",
          "text": [
            "tmp [0.1603, 0.1613, 0.1628, 0.1615, 0.1618, 0.1623, 0.1628, 0.162, 0.1628, 0.1624]\n",
            "storage [0.162, 0.162]\n"
          ]
        },
        {
          "output_type": "stream",
          "name": "stderr",
          "text": [
            "\r                                                                               \r\r--[INFO]-- Analyzing Video:  23% |######                       | ETA:   0:07:12"
          ]
        },
        {
          "output_type": "stream",
          "name": "stdout",
          "text": [
            "tmp [0.1615]\n"
          ]
        },
        {
          "output_type": "stream",
          "name": "stderr",
          "text": [
            "\r                                                                               \r\r--[INFO]-- Analyzing Video:  24% |#######                      | ETA:   0:07:06"
          ]
        },
        {
          "output_type": "stream",
          "name": "stdout",
          "text": [
            "tmp [0.1615, 0.1618]\n"
          ]
        },
        {
          "output_type": "stream",
          "name": "stderr",
          "text": [
            "\r                                                                               \r\r--[INFO]-- Analyzing Video:  25% |#######                      | ETA:   0:06:59"
          ]
        },
        {
          "output_type": "stream",
          "name": "stdout",
          "text": [
            "tmp [0.1615, 0.1618, 0.162]\n"
          ]
        },
        {
          "output_type": "stream",
          "name": "stderr",
          "text": [
            "\r                                                                               \r\r--[INFO]-- Analyzing Video:  26% |#######                      | ETA:   0:06:53"
          ]
        },
        {
          "output_type": "stream",
          "name": "stdout",
          "text": [
            "tmp [0.1615, 0.1618, 0.162, 0.1645]\n"
          ]
        },
        {
          "output_type": "stream",
          "name": "stderr",
          "text": [
            "\r                                                                               \r\r--[INFO]-- Analyzing Video:  27% |#######                      | ETA:   0:06:47"
          ]
        },
        {
          "output_type": "stream",
          "name": "stdout",
          "text": [
            "tmp [0.1615, 0.1618, 0.162, 0.1645, 0.1623]\n"
          ]
        },
        {
          "output_type": "stream",
          "name": "stderr",
          "text": [
            "\r                                                                               \r\r--[INFO]-- Analyzing Video:  28% |########                     | ETA:   0:06:40"
          ]
        },
        {
          "output_type": "stream",
          "name": "stdout",
          "text": [
            "tmp [0.1615, 0.1618, 0.162, 0.1645, 0.1623, 0.1633]\n"
          ]
        },
        {
          "output_type": "stream",
          "name": "stderr",
          "text": [
            "\r                                                                               \r\r--[INFO]-- Analyzing Video:  29% |########                     | ETA:   0:06:34"
          ]
        },
        {
          "output_type": "stream",
          "name": "stdout",
          "text": [
            "tmp [0.1615, 0.1618, 0.162, 0.1645, 0.1623, 0.1633, 0.1636]\n"
          ]
        },
        {
          "output_type": "stream",
          "name": "stderr",
          "text": [
            "\r                                                                               \r\r--[INFO]-- Analyzing Video:  30% |########                     | ETA:   0:06:28"
          ]
        },
        {
          "output_type": "stream",
          "name": "stdout",
          "text": [
            "tmp [0.1615, 0.1618, 0.162, 0.1645, 0.1623, 0.1633, 0.1636, 0.1634]\n"
          ]
        },
        {
          "output_type": "stream",
          "name": "stderr",
          "text": [
            "\r                                                                               \r\r--[INFO]-- Analyzing Video:  31% |#########                    | ETA:   0:06:22"
          ]
        },
        {
          "output_type": "stream",
          "name": "stdout",
          "text": [
            "tmp [0.1615, 0.1618, 0.162, 0.1645, 0.1623, 0.1633, 0.1636, 0.1634, 0.1635]\n"
          ]
        },
        {
          "output_type": "stream",
          "name": "stderr",
          "text": [
            "\r                                                                               \r\r--[INFO]-- Analyzing Video:  32% |#########                    | ETA:   0:06:16"
          ]
        },
        {
          "output_type": "stream",
          "name": "stdout",
          "text": [
            "tmp [0.1615, 0.1618, 0.162, 0.1645, 0.1623, 0.1633, 0.1636, 0.1634, 0.1635, 0.1618]\n",
            "storage [0.162, 0.162, 0.1628]\n"
          ]
        },
        {
          "output_type": "stream",
          "name": "stderr",
          "text": [
            "\r                                                                               \r\r--[INFO]-- Analyzing Video:  34% |#########                    | ETA:   0:06:09"
          ]
        },
        {
          "output_type": "stream",
          "name": "stdout",
          "text": [
            "tmp [0.1635]\n"
          ]
        },
        {
          "output_type": "stream",
          "name": "stderr",
          "text": [
            "\r                                                                               \r\r--[INFO]-- Analyzing Video:  35% |##########                   | ETA:   0:06:03"
          ]
        },
        {
          "output_type": "stream",
          "name": "stdout",
          "text": [
            "tmp [0.1635, 0.1627]\n"
          ]
        },
        {
          "output_type": "stream",
          "name": "stderr",
          "text": [
            "\r                                                                               \r\r--[INFO]-- Analyzing Video:  36% |##########                   | ETA:   0:05:57"
          ]
        },
        {
          "output_type": "stream",
          "name": "stdout",
          "text": [
            "tmp [0.1635, 0.1627, 0.1618]\n"
          ]
        },
        {
          "output_type": "stream",
          "name": "stderr",
          "text": [
            "\r                                                                               \r\r--[INFO]-- Analyzing Video:  37% |##########                   | ETA:   0:05:51"
          ]
        },
        {
          "output_type": "stream",
          "name": "stdout",
          "text": [
            "tmp [0.1635, 0.1627, 0.1618, 0.1642]\n"
          ]
        },
        {
          "output_type": "stream",
          "name": "stderr",
          "text": [
            "\r                                                                               \r\r--[INFO]-- Analyzing Video:  38% |###########                  | ETA:   0:05:44"
          ]
        },
        {
          "output_type": "stream",
          "name": "stdout",
          "text": [
            "tmp [0.1635, 0.1627, 0.1618, 0.1642, 0.1662]\n"
          ]
        },
        {
          "output_type": "stream",
          "name": "stderr",
          "text": [
            "\r                                                                               \r\r--[INFO]-- Analyzing Video:  39% |###########                  | ETA:   0:05:38"
          ]
        },
        {
          "output_type": "stream",
          "name": "stdout",
          "text": [
            "tmp [0.1635, 0.1627, 0.1618, 0.1642, 0.1662, 0.1638]\n"
          ]
        },
        {
          "output_type": "stream",
          "name": "stderr",
          "text": [
            "\r                                                                               \r\r--[INFO]-- Analyzing Video:  40% |###########                  | ETA:   0:05:32"
          ]
        },
        {
          "output_type": "stream",
          "name": "stdout",
          "text": [
            "tmp [0.1635, 0.1627, 0.1618, 0.1642, 0.1662, 0.1638, 0.1615]\n"
          ]
        },
        {
          "output_type": "stream",
          "name": "stderr",
          "text": [
            "\r                                                                               \r\r--[INFO]-- Analyzing Video:  41% |############                 | ETA:   0:05:26"
          ]
        },
        {
          "output_type": "stream",
          "name": "stdout",
          "text": [
            "tmp [0.1635, 0.1627, 0.1618, 0.1642, 0.1662, 0.1638, 0.1615, 0.1631]\n"
          ]
        },
        {
          "output_type": "stream",
          "name": "stderr",
          "text": [
            "\r                                                                               \r\r--[INFO]-- Analyzing Video:  42% |############                 | ETA:   0:05:20"
          ]
        },
        {
          "output_type": "stream",
          "name": "stdout",
          "text": [
            "tmp [0.1635, 0.1627, 0.1618, 0.1642, 0.1662, 0.1638, 0.1615, 0.1631, 0.1623]\n"
          ]
        },
        {
          "output_type": "stream",
          "name": "stderr",
          "text": [
            "\r                                                                               \r\r--[INFO]-- Analyzing Video:  43% |############                 | ETA:   0:05:13"
          ]
        },
        {
          "output_type": "stream",
          "name": "stdout",
          "text": [
            "tmp [0.1635, 0.1627, 0.1618, 0.1642, 0.1662, 0.1638, 0.1615, 0.1631, 0.1623, 0.1634]\n",
            "storage [0.162, 0.162, 0.1628, 0.1632]\n"
          ]
        },
        {
          "output_type": "stream",
          "name": "stderr",
          "text": [
            "\r                                                                               \r\r--[INFO]-- Analyzing Video:  45% |#############                | ETA:   0:05:07"
          ]
        },
        {
          "output_type": "stream",
          "name": "stdout",
          "text": [
            "tmp [0.1624]\n"
          ]
        },
        {
          "output_type": "stream",
          "name": "stderr",
          "text": [
            "\r                                                                               \r\r--[INFO]-- Analyzing Video:  46% |#############                | ETA:   0:05:01"
          ]
        },
        {
          "output_type": "stream",
          "name": "stdout",
          "text": [
            "tmp [0.1624, 0.1625]\n"
          ]
        },
        {
          "output_type": "stream",
          "name": "stderr",
          "text": [
            "\r                                                                               \r\r--[INFO]-- Analyzing Video:  47% |#############                | ETA:   0:04:55"
          ]
        },
        {
          "output_type": "stream",
          "name": "stdout",
          "text": [
            "tmp [0.1624, 0.1625, 0.1623]\n"
          ]
        },
        {
          "output_type": "stream",
          "name": "stderr",
          "text": [
            "\r                                                                               \r\r--[INFO]-- Analyzing Video:  48% |##############               | ETA:   0:04:49"
          ]
        },
        {
          "output_type": "stream",
          "name": "stdout",
          "text": [
            "tmp [0.1624, 0.1625, 0.1623, 0.1612]\n"
          ]
        },
        {
          "output_type": "stream",
          "name": "stderr",
          "text": [
            "\r                                                                               \r\r--[INFO]-- Analyzing Video:  49% |##############               | ETA:   0:04:43"
          ]
        },
        {
          "output_type": "stream",
          "name": "stdout",
          "text": [
            "tmp [0.1624, 0.1625, 0.1623, 0.1612, 0.1627]\n"
          ]
        },
        {
          "output_type": "stream",
          "name": "stderr",
          "text": [
            "\r                                                                               \r\r--[INFO]-- Analyzing Video:  50% |##############               | ETA:   0:04:36"
          ]
        },
        {
          "output_type": "stream",
          "name": "stdout",
          "text": [
            "tmp [0.1624, 0.1625, 0.1623, 0.1612, 0.1627, 0.164]\n"
          ]
        },
        {
          "output_type": "stream",
          "name": "stderr",
          "text": [
            "\r                                                                               \r\r--[INFO]-- Analyzing Video:  51% |##############               | ETA:   0:04:30"
          ]
        },
        {
          "output_type": "stream",
          "name": "stdout",
          "text": [
            "tmp [0.1624, 0.1625, 0.1623, 0.1612, 0.1627, 0.164, 0.1632]\n"
          ]
        },
        {
          "output_type": "stream",
          "name": "stderr",
          "text": [
            "\r                                                                               \r\r--[INFO]-- Analyzing Video:  52% |###############              | ETA:   0:04:24"
          ]
        },
        {
          "output_type": "stream",
          "name": "stdout",
          "text": [
            "tmp [0.1624, 0.1625, 0.1623, 0.1612, 0.1627, 0.164, 0.1632, 0.1621]\n"
          ]
        },
        {
          "output_type": "stream",
          "name": "stderr",
          "text": [
            "\r                                                                               \r\r--[INFO]-- Analyzing Video:  53% |###############              | ETA:   0:04:18"
          ]
        },
        {
          "output_type": "stream",
          "name": "stdout",
          "text": [
            "tmp [0.1624, 0.1625, 0.1623, 0.1612, 0.1627, 0.164, 0.1632, 0.1621, 0.1622]\n"
          ]
        },
        {
          "output_type": "stream",
          "name": "stderr",
          "text": [
            "\r                                                                               \r\r--[INFO]-- Analyzing Video:  54% |###############              | ETA:   0:04:12"
          ]
        },
        {
          "output_type": "stream",
          "name": "stdout",
          "text": [
            "tmp [0.1624, 0.1625, 0.1623, 0.1612, 0.1627, 0.164, 0.1632, 0.1621, 0.1622, 0.1637]\n",
            "storage [0.162, 0.162, 0.1628, 0.1632, 0.1626]\n"
          ]
        },
        {
          "output_type": "stream",
          "name": "stderr",
          "text": [
            "\r                                                                               \r\r--[INFO]-- Analyzing Video:  56% |################             | ETA:   0:04:06"
          ]
        },
        {
          "output_type": "stream",
          "name": "stdout",
          "text": [
            "tmp [0.1638]\n"
          ]
        },
        {
          "output_type": "stream",
          "name": "stderr",
          "text": [
            "\r                                                                               \r\r--[INFO]-- Analyzing Video:  57% |################             | ETA:   0:03:59"
          ]
        },
        {
          "output_type": "stream",
          "name": "stdout",
          "text": [
            "tmp [0.1638, 0.1642]\n"
          ]
        },
        {
          "output_type": "stream",
          "name": "stderr",
          "text": [
            "\r                                                                               \r\r--[INFO]-- Analyzing Video:  58% |################             | ETA:   0:03:53"
          ]
        },
        {
          "output_type": "stream",
          "name": "stdout",
          "text": [
            "tmp [0.1638, 0.1642, 0.163]\n"
          ]
        },
        {
          "output_type": "stream",
          "name": "stderr",
          "text": [
            "\r                                                                               \r\r--[INFO]-- Analyzing Video:  59% |#################            | ETA:   0:03:47"
          ]
        },
        {
          "output_type": "stream",
          "name": "stdout",
          "text": [
            "tmp [0.1638, 0.1642, 0.163, 0.1626]\n"
          ]
        },
        {
          "output_type": "stream",
          "name": "stderr",
          "text": [
            "\r                                                                               \r\r--[INFO]-- Analyzing Video:  60% |#################            | ETA:   0:03:41"
          ]
        },
        {
          "output_type": "stream",
          "name": "stdout",
          "text": [
            "tmp [0.1638, 0.1642, 0.163, 0.1626, 0.1616]\n"
          ]
        },
        {
          "output_type": "stream",
          "name": "stderr",
          "text": [
            "\r                                                                               \r\r--[INFO]-- Analyzing Video:  61% |#################            | ETA:   0:03:35"
          ]
        },
        {
          "output_type": "stream",
          "name": "stdout",
          "text": [
            "tmp [0.1638, 0.1642, 0.163, 0.1626, 0.1616, 0.1634]\n"
          ]
        },
        {
          "output_type": "stream",
          "name": "stderr",
          "text": [
            "\r                                                                               \r\r--[INFO]-- Analyzing Video:  62% |##################           | ETA:   0:03:29"
          ]
        },
        {
          "output_type": "stream",
          "name": "stdout",
          "text": [
            "tmp [0.1638, 0.1642, 0.163, 0.1626, 0.1616, 0.1634, 0.1627]\n"
          ]
        },
        {
          "output_type": "stream",
          "name": "stderr",
          "text": [
            "\r                                                                               \r\r--[INFO]-- Analyzing Video:  63% |##################           | ETA:   0:03:23"
          ]
        },
        {
          "output_type": "stream",
          "name": "stdout",
          "text": [
            "tmp [0.1638, 0.1642, 0.163, 0.1626, 0.1616, 0.1634, 0.1627, 0.1621]\n"
          ]
        },
        {
          "output_type": "stream",
          "name": "stderr",
          "text": [
            "\r                                                                               \r\r--[INFO]-- Analyzing Video:  64% |##################           | ETA:   0:03:16"
          ]
        },
        {
          "output_type": "stream",
          "name": "stdout",
          "text": [
            "tmp [0.1638, 0.1642, 0.163, 0.1626, 0.1616, 0.1634, 0.1627, 0.1621, 0.1607]\n"
          ]
        },
        {
          "output_type": "stream",
          "name": "stderr",
          "text": [
            "\r                                                                               \r\r--[INFO]-- Analyzing Video:  65% |###################          | ETA:   0:03:10"
          ]
        },
        {
          "output_type": "stream",
          "name": "stdout",
          "text": [
            "tmp [0.1638, 0.1642, 0.163, 0.1626, 0.1616, 0.1634, 0.1627, 0.1621, 0.1607, 0.1631]\n",
            "storage [0.162, 0.162, 0.1628, 0.1632, 0.1626, 0.1627]\n"
          ]
        },
        {
          "output_type": "stream",
          "name": "stderr",
          "text": [
            "\r                                                                               \r\r--[INFO]-- Analyzing Video:  67% |###################          | ETA:   0:03:04"
          ]
        },
        {
          "output_type": "stream",
          "name": "stdout",
          "text": [
            "tmp [0.1639]\n"
          ]
        },
        {
          "output_type": "stream",
          "name": "stderr",
          "text": [
            "\r                                                                               \r\r--[INFO]-- Analyzing Video:  68% |###################          | ETA:   0:02:58"
          ]
        },
        {
          "output_type": "stream",
          "name": "stdout",
          "text": [
            "tmp [0.1639, 0.1625]\n"
          ]
        },
        {
          "output_type": "stream",
          "name": "stderr",
          "text": [
            "\r                                                                               \r\r--[INFO]-- Analyzing Video:  69% |####################         | ETA:   0:02:52"
          ]
        },
        {
          "output_type": "stream",
          "name": "stdout",
          "text": [
            "tmp [0.1639, 0.1625, 0.1642]\n"
          ]
        },
        {
          "output_type": "stream",
          "name": "stderr",
          "text": [
            "\r                                                                               \r\r--[INFO]-- Analyzing Video:  70% |####################         | ETA:   0:02:46"
          ]
        },
        {
          "output_type": "stream",
          "name": "stdout",
          "text": [
            "tmp [0.1639, 0.1625, 0.1642, 0.1611]\n"
          ]
        },
        {
          "output_type": "stream",
          "name": "stderr",
          "text": [
            "\r                                                                               \r\r--[INFO]-- Analyzing Video:  71% |####################         | ETA:   0:02:39"
          ]
        },
        {
          "output_type": "stream",
          "name": "stdout",
          "text": [
            "tmp [0.1639, 0.1625, 0.1642, 0.1611, 0.1635]\n"
          ]
        },
        {
          "output_type": "stream",
          "name": "stderr",
          "text": [
            "\r                                                                               \r\r--[INFO]-- Analyzing Video:  72% |#####################        | ETA:   0:02:33"
          ]
        },
        {
          "output_type": "stream",
          "name": "stdout",
          "text": [
            "tmp [0.1639, 0.1625, 0.1642, 0.1611, 0.1635, 0.1629]\n"
          ]
        },
        {
          "output_type": "stream",
          "name": "stderr",
          "text": [
            "\r                                                                               \r\r--[INFO]-- Analyzing Video:  73% |#####################        | ETA:   0:02:27"
          ]
        },
        {
          "output_type": "stream",
          "name": "stdout",
          "text": [
            "tmp [0.1639, 0.1625, 0.1642, 0.1611, 0.1635, 0.1629, 0.1629]\n"
          ]
        },
        {
          "output_type": "stream",
          "name": "stderr",
          "text": [
            "\r                                                                               \r\r--[INFO]-- Analyzing Video:  74% |#####################        | ETA:   0:02:21"
          ]
        },
        {
          "output_type": "stream",
          "name": "stdout",
          "text": [
            "tmp [0.1639, 0.1625, 0.1642, 0.1611, 0.1635, 0.1629, 0.1629, 0.1645]\n"
          ]
        },
        {
          "output_type": "stream",
          "name": "stderr",
          "text": [
            "\r                                                                               \r\r--[INFO]-- Analyzing Video:  75% |#####################        | ETA:   0:02:15"
          ]
        },
        {
          "output_type": "stream",
          "name": "stdout",
          "text": [
            "tmp [0.1639, 0.1625, 0.1642, 0.1611, 0.1635, 0.1629, 0.1629, 0.1645, 0.163]\n"
          ]
        },
        {
          "output_type": "stream",
          "name": "stderr",
          "text": [
            "\r                                                                               \r\r--[INFO]-- Analyzing Video:  76% |######################       | ETA:   0:02:09"
          ]
        },
        {
          "output_type": "stream",
          "name": "stdout",
          "text": [
            "tmp [0.1639, 0.1625, 0.1642, 0.1611, 0.1635, 0.1629, 0.1629, 0.1645, 0.163, 0.1621]\n",
            "storage [0.162, 0.162, 0.1628, 0.1632, 0.1626, 0.1627, 0.1631]\n"
          ]
        },
        {
          "output_type": "stream",
          "name": "stderr",
          "text": [
            "\r                                                                               \r\r--[INFO]-- Analyzing Video:  78% |######################       | ETA:   0:02:02"
          ]
        },
        {
          "output_type": "stream",
          "name": "stdout",
          "text": [
            "tmp [0.163]\n"
          ]
        },
        {
          "output_type": "stream",
          "name": "stderr",
          "text": [
            "\r                                                                               \r\r--[INFO]-- Analyzing Video:  79% |######################       | ETA:   0:01:56"
          ]
        },
        {
          "output_type": "stream",
          "name": "stdout",
          "text": [
            "tmp [0.163, 0.1624]\n"
          ]
        },
        {
          "output_type": "stream",
          "name": "stderr",
          "text": [
            "\r                                                                               \r\r--[INFO]-- Analyzing Video:  80% |#######################      | ETA:   0:01:50"
          ]
        },
        {
          "output_type": "stream",
          "name": "stdout",
          "text": [
            "tmp [0.163, 0.1624, 0.1623]\n"
          ]
        },
        {
          "output_type": "stream",
          "name": "stderr",
          "text": [
            "\r                                                                               \r\r--[INFO]-- Analyzing Video:  81% |#######################      | ETA:   0:01:44"
          ]
        },
        {
          "output_type": "stream",
          "name": "stdout",
          "text": [
            "tmp [0.163, 0.1624, 0.1623, 0.1645]\n"
          ]
        },
        {
          "output_type": "stream",
          "name": "stderr",
          "text": [
            "\r                                                                               \r\r--[INFO]-- Analyzing Video:  82% |#######################      | ETA:   0:01:38"
          ]
        },
        {
          "output_type": "stream",
          "name": "stdout",
          "text": [
            "tmp [0.163, 0.1624, 0.1623, 0.1645, 0.1632]\n"
          ]
        },
        {
          "output_type": "stream",
          "name": "stderr",
          "text": [
            "\r                                                                               \r\r--[INFO]-- Analyzing Video:  83% |########################     | ETA:   0:01:32"
          ]
        },
        {
          "output_type": "stream",
          "name": "stdout",
          "text": [
            "tmp [0.163, 0.1624, 0.1623, 0.1645, 0.1632, 0.1626]\n"
          ]
        },
        {
          "output_type": "stream",
          "name": "stderr",
          "text": [
            "\r                                                                               \r\r--[INFO]-- Analyzing Video:  84% |########################     | ETA:   0:01:26"
          ]
        },
        {
          "output_type": "stream",
          "name": "stdout",
          "text": [
            "tmp [0.163, 0.1624, 0.1623, 0.1645, 0.1632, 0.1626, 0.1632]\n"
          ]
        },
        {
          "output_type": "stream",
          "name": "stderr",
          "text": [
            "\r                                                                               \r\r--[INFO]-- Analyzing Video:  85% |########################     | ETA:   0:01:19"
          ]
        },
        {
          "output_type": "stream",
          "name": "stdout",
          "text": [
            "tmp [0.163, 0.1624, 0.1623, 0.1645, 0.1632, 0.1626, 0.1632, 0.1606]\n"
          ]
        },
        {
          "output_type": "stream",
          "name": "stderr",
          "text": [
            "\r                                                                               \r\r--[INFO]-- Analyzing Video:  86% |#########################    | ETA:   0:01:13"
          ]
        },
        {
          "output_type": "stream",
          "name": "stdout",
          "text": [
            "tmp [0.163, 0.1624, 0.1623, 0.1645, 0.1632, 0.1626, 0.1632, 0.1606, 0.16]\n"
          ]
        },
        {
          "output_type": "stream",
          "name": "stderr",
          "text": [
            "\r                                                                               \r\r--[INFO]-- Analyzing Video:  87% |#########################    | ETA:   0:01:07"
          ]
        },
        {
          "output_type": "stream",
          "name": "stdout",
          "text": [
            "tmp [0.163, 0.1624, 0.1623, 0.1645, 0.1632, 0.1626, 0.1632, 0.1606, 0.16, 0.1632]\n",
            "storage [0.162, 0.162, 0.1628, 0.1632, 0.1626, 0.1627, 0.1631, 0.1625]\n"
          ]
        },
        {
          "output_type": "stream",
          "name": "stderr",
          "text": [
            "\r                                                                               \r\r--[INFO]-- Analyzing Video:  89% |#########################    | ETA:   0:01:01"
          ]
        },
        {
          "output_type": "stream",
          "name": "stdout",
          "text": [
            "tmp [0.1645]\n"
          ]
        },
        {
          "output_type": "stream",
          "name": "stderr",
          "text": [
            "\r                                                                               \r\r--[INFO]-- Analyzing Video:  90% |##########################   | ETA:   0:00:55"
          ]
        },
        {
          "output_type": "stream",
          "name": "stdout",
          "text": [
            "tmp [0.1645, 0.1639]\n"
          ]
        },
        {
          "output_type": "stream",
          "name": "stderr",
          "text": [
            "\r                                                                               \r\r--[INFO]-- Analyzing Video:  91% |##########################   | ETA:   0:00:49"
          ]
        },
        {
          "output_type": "stream",
          "name": "stdout",
          "text": [
            "tmp [0.1645, 0.1639, 0.1624]\n"
          ]
        },
        {
          "output_type": "stream",
          "name": "stderr",
          "text": [
            "\r                                                                               \r\r--[INFO]-- Analyzing Video:  92% |##########################   | ETA:   0:00:43"
          ]
        },
        {
          "output_type": "stream",
          "name": "stdout",
          "text": [
            "tmp [0.1645, 0.1639, 0.1624, 0.1631]\n"
          ]
        },
        {
          "output_type": "stream",
          "name": "stderr",
          "text": [
            "\r                                                                               \r\r--[INFO]-- Analyzing Video:  93% |###########################  | ETA:   0:00:36"
          ]
        },
        {
          "output_type": "stream",
          "name": "stdout",
          "text": [
            "tmp [0.1645, 0.1639, 0.1624, 0.1631, 0.1646]\n"
          ]
        },
        {
          "output_type": "stream",
          "name": "stderr",
          "text": [
            "\r                                                                               \r\r--[INFO]-- Analyzing Video:  94% |###########################  | ETA:   0:00:30"
          ]
        },
        {
          "output_type": "stream",
          "name": "stdout",
          "text": [
            "tmp [0.1645, 0.1639, 0.1624, 0.1631, 0.1646, 0.1636]\n"
          ]
        },
        {
          "output_type": "stream",
          "name": "stderr",
          "text": [
            "\r                                                                               \r\r--[INFO]-- Analyzing Video:  95% |###########################  | ETA:   0:00:24"
          ]
        },
        {
          "output_type": "stream",
          "name": "stdout",
          "text": [
            "tmp [0.1645, 0.1639, 0.1624, 0.1631, 0.1646, 0.1636, 0.1636]\n"
          ]
        },
        {
          "output_type": "stream",
          "name": "stderr",
          "text": [
            "\r                                                                               \r\r--[INFO]-- Analyzing Video:  96% |############################ | ETA:   0:00:18"
          ]
        },
        {
          "output_type": "stream",
          "name": "stdout",
          "text": [
            "tmp [0.1645, 0.1639, 0.1624, 0.1631, 0.1646, 0.1636, 0.1636, 0.1654]\n"
          ]
        },
        {
          "output_type": "stream",
          "name": "stderr",
          "text": [
            "\r                                                                               \r\r--[INFO]-- Analyzing Video:  97% |############################ | ETA:   0:00:12"
          ]
        },
        {
          "output_type": "stream",
          "name": "stdout",
          "text": [
            "tmp [0.1645, 0.1639, 0.1624, 0.1631, 0.1646, 0.1636, 0.1636, 0.1654, 0.1653]\n"
          ]
        },
        {
          "output_type": "stream",
          "name": "stderr",
          "text": [
            "--[INFO]-- Analyzing Video: 100% |#############################| Time:  0:09:13\n"
          ]
        },
        {
          "output_type": "stream",
          "name": "stdout",
          "text": [
            "tmp [0.1645, 0.1639, 0.1624, 0.1631, 0.1646, 0.1636, 0.1636, 0.1654, 0.1653, 0.1625]\n",
            "storage [0.162, 0.162, 0.1628, 0.1632, 0.1626, 0.1627, 0.1631, 0.1625, 0.1639]\n",
            "save complete\n"
          ]
        }
      ]
    },
    {
      "cell_type": "code",
      "source": [
        "!pip install mediapipe"
      ],
      "metadata": {
        "colab": {
          "base_uri": "https://localhost:8080/"
        },
        "id": "EFFWWlA6TwzU",
        "outputId": "bc52cb0a-c190-410b-c55d-740e449e1d58"
      },
      "execution_count": null,
      "outputs": [
        {
          "output_type": "stream",
          "name": "stdout",
          "text": [
            "Collecting mediapipe\n",
            "  Downloading mediapipe-0.8.9.1-cp37-cp37m-manylinux_2_17_x86_64.manylinux2014_x86_64.whl (32.7 MB)\n",
            "\u001b[K     |████████████████████████████████| 32.7 MB 1.3 MB/s \n",
            "\u001b[?25hRequirement already satisfied: opencv-contrib-python in /usr/local/lib/python3.7/dist-packages (from mediapipe) (4.1.2.30)\n",
            "Requirement already satisfied: numpy in /usr/local/lib/python3.7/dist-packages (from mediapipe) (1.21.5)\n",
            "Requirement already satisfied: absl-py in /usr/local/lib/python3.7/dist-packages (from mediapipe) (1.0.0)\n",
            "Requirement already satisfied: protobuf>=3.11.4 in /usr/local/lib/python3.7/dist-packages (from mediapipe) (3.17.3)\n",
            "Requirement already satisfied: matplotlib in /usr/local/lib/python3.7/dist-packages (from mediapipe) (3.2.2)\n",
            "Requirement already satisfied: attrs>=19.1.0 in /usr/local/lib/python3.7/dist-packages (from mediapipe) (21.4.0)\n",
            "Requirement already satisfied: six>=1.9 in /usr/local/lib/python3.7/dist-packages (from protobuf>=3.11.4->mediapipe) (1.15.0)\n",
            "Requirement already satisfied: pyparsing!=2.0.4,!=2.1.2,!=2.1.6,>=2.0.1 in /usr/local/lib/python3.7/dist-packages (from matplotlib->mediapipe) (3.0.7)\n",
            "Requirement already satisfied: kiwisolver>=1.0.1 in /usr/local/lib/python3.7/dist-packages (from matplotlib->mediapipe) (1.4.0)\n",
            "Requirement already satisfied: python-dateutil>=2.1 in /usr/local/lib/python3.7/dist-packages (from matplotlib->mediapipe) (2.8.2)\n",
            "Requirement already satisfied: cycler>=0.10 in /usr/local/lib/python3.7/dist-packages (from matplotlib->mediapipe) (0.11.0)\n",
            "Requirement already satisfied: typing-extensions in /usr/local/lib/python3.7/dist-packages (from kiwisolver>=1.0.1->matplotlib->mediapipe) (3.10.0.2)\n",
            "Installing collected packages: mediapipe\n",
            "Successfully installed mediapipe-0.8.9.1\n"
          ]
        }
      ]
    },
    {
      "cell_type": "code",
      "source": [
        "import mediapipe as mp\n",
        "import cv2\n",
        "import numpy as np\n",
        "import datetime\n",
        "import matplotlib.pyplot as plt\n",
        "\n",
        "video_path = '/content/drive/MyDrive/openpose-counter/JR4.mp4'\n",
        "out_path = 'out_mp.mp4'\n",
        "\n",
        "\n",
        "mp_drawing = mp.solutions.drawing_utils     # helps draw different detections from holistic models\n",
        "mp_holistic = mp.solutions.holistic         # import holistic models (this is just for point tracking with colors)\n",
        "mp_pose = mp.solutions.pose                 # mp pose\n",
        "\n",
        "# Store the input video specifics\n",
        "cap = cv2.VideoCapture(video_path)\n",
        "n_frames = int(cap.get(cv2.CAP_PROP_FRAME_COUNT))# 总帧数\n",
        "fps = int(cap.get(cv2.CAP_PROP_FPS))# 帧率信息\n",
        "size = (int(cap.get(cv2.CAP_PROP_FRAME_WIDTH)),int(cap.get(cv2.CAP_PROP_FRAME_HEIGHT)))\n",
        "\n",
        "# Define the output\n",
        "fourcc = cv2.VideoWriter_fourcc(*'mp4v')\n",
        "output = cv2.VideoWriter(out_path, fourcc, fps, (1000,400))\n",
        "\n",
        "dyB_previous_round = 0\n",
        "# counter variables\n",
        "frame_count= 0\n",
        "jump_count = 0\n",
        "#记录帧\n",
        "start_time = time.time()\n",
        "counter = 0\n",
        "store_MP_fps = []\n",
        "tmp = []\n",
        "\n",
        "stat_B =[] \n",
        "posB = []   #躯干\n",
        "\n",
        "# Initiate Pose model\n",
        "with mp_pose.Pose(min_detection_confidence=0.5, min_tracking_confidence=0.5) as pose:\n",
        "    while cap.isOpened():\n",
        "        ret, frame = cap.read()\n",
        "        \n",
        "        if not ret:\n",
        "            print(\"Ignoring empty camera frame.\")\n",
        "            break\n",
        "            \n",
        "        # Recolor image to RGB\n",
        "        image = cv2.cvtColor(frame, cv2.COLOR_BGR2RGB)\n",
        "        image.flags.writeable = False\n",
        "        # Make Detections\n",
        "        results = pose.process(image)\n",
        "        \n",
        "        # Recolor back to BGR for rendering\n",
        "        image.flags.writeable = True\n",
        "        image = cv2.cvtColor(image, cv2.COLOR_RGB2BGR)\n",
        "        \n",
        "        # Extract landmarks \n",
        "        landmarksL = results.pose_landmarks.landmark\n",
        "            \n",
        "\n",
        "        #躯干\n",
        "        Pshouder = landmarksL[mp_pose.PoseLandmark.LEFT_SHOULDER.value].y + landmarksL[mp_pose.PoseLandmark.RIGHT_SHOULDER.value].y\n",
        "        Phip = landmarksL[mp_pose.PoseLandmark.LEFT_HIP.value].y + landmarksL[mp_pose.PoseLandmark.RIGHT_HIP.value].y\n",
        "        posB.append((Pshouder+Phip)/4)\n",
        "                \n",
        "        if frame_count>1:\n",
        "            #当前轮的相对位置\n",
        "            dyB_current_round = curr_dy(dyB_previous_round,posB[-1],posB[-2],posB[-3])\n",
        "            \n",
        "            #相较于上一轮是up or down\n",
        "            arry_stat(stat_B, np.sign(dyB_current_round-dyB_previous_round))\n",
        "            dyB_previous_round = dyB_current_round                                                         \n",
        "            if frame_count>9:   #比较i，i+1,i+2->第一轮从第9帧开始 \n",
        "                jump_count = if_add(stat_B,jump_count)\n",
        "        \n",
        "        # 改图\n",
        "        mp_drawing.draw_landmarks(image, results.pose_landmarks, mp_pose.POSE_CONNECTIONS,\n",
        "                                mp_drawing.DrawingSpec(color=(245,117,66), thickness=2, circle_radius=2), \n",
        "                                mp_drawing.DrawingSpec(color=(245,66,230), thickness=2, circle_radius=2) \n",
        "                                ) \n",
        "        cv2.putText(image,\"jumps: {}\".format(jump_count),(5,40),cv2.FONT_HERSHEY_SIMPLEX,0.5,(0,255,0),2)\n",
        "        \n",
        "        frame_count = frame_count+1\n",
        "        output.write(image)\n",
        "\n",
        "        counter += 1\n",
        "\n",
        "        if (time.time() - start_time) != 0:  # 实时显示帧数\n",
        "          # cv2.putText(frame_copy, \"FPS {0}\".format(float('%.1f' % (counter / (time.time() - start_time)))), (30, 430),\n",
        "          #             cv2.FONT_HERSHEY_SIMPLEX, 1, (255, 255, 255), 5)\n",
        "          tmp.append(round(counter / (time.time() - start_time),4))\n",
        "          print(\"tmp\",tmp)\n",
        "          if len(tmp)==10: # 每60帧一个平均值\n",
        "            store_MP_fps.append(round(np.mean(tmp),4))\n",
        "            print(\"storage\", store_MP_fps)\n",
        "            tmp = []\n",
        "          counter = 0\n",
        "          start_time = time.time()\n",
        "\n",
        "        if cv2.waitKey(10) & 0xFF == ord('q'):\n",
        "            break\n",
        "\n",
        "print(\"store_MP_fps\",store_MP_fps)            \n",
        "cap.release()\n",
        "cv2.destroyAllWindows()\n"
      ],
      "metadata": {
        "colab": {
          "base_uri": "https://localhost:8080/"
        },
        "id": "fuQQ0thUTtGP",
        "outputId": "d9ed46c6-12db-4dab-8f96-2b69aeb290fe"
      },
      "execution_count": null,
      "outputs": [
        {
          "output_type": "stream",
          "name": "stdout",
          "text": [
            "tmp [5.1901]\n",
            "tmp [5.1901, 22.0524]\n",
            "tmp [5.1901, 22.0524, 16.803]\n",
            "tmp [5.1901, 22.0524, 16.803, 22.7347]\n",
            "tmp [5.1901, 22.0524, 16.803, 22.7347, 21.9695]\n",
            "tmp [5.1901, 22.0524, 16.803, 22.7347, 21.9695, 20.0593]\n",
            "tmp [5.1901, 22.0524, 16.803, 22.7347, 21.9695, 20.0593, 21.4971]\n",
            "tmp [5.1901, 22.0524, 16.803, 22.7347, 21.9695, 20.0593, 21.4971, 21.463]\n",
            "tmp [5.1901, 22.0524, 16.803, 22.7347, 21.9695, 20.0593, 21.4971, 21.463, 21.8638]\n",
            "tmp [5.1901, 22.0524, 16.803, 22.7347, 21.9695, 20.0593, 21.4971, 21.463, 21.8638, 20.4795]\n",
            "storage [19.4112]\n",
            "tmp [21.4448]\n",
            "tmp [21.4448, 21.467]\n",
            "tmp [21.4448, 21.467, 21.7312]\n",
            "tmp [21.4448, 21.467, 21.7312, 21.7346]\n",
            "tmp [21.4448, 21.467, 21.7312, 21.7346, 21.9492]\n",
            "tmp [21.4448, 21.467, 21.7312, 21.7346, 21.9492, 20.9044]\n",
            "tmp [21.4448, 21.467, 21.7312, 21.7346, 21.9492, 20.9044, 21.7642]\n",
            "tmp [21.4448, 21.467, 21.7312, 21.7346, 21.9492, 20.9044, 21.7642, 22.3076]\n",
            "tmp [21.4448, 21.467, 21.7312, 21.7346, 21.9492, 20.9044, 21.7642, 22.3076, 21.7878]\n",
            "tmp [21.4448, 21.467, 21.7312, 21.7346, 21.9492, 20.9044, 21.7642, 22.3076, 21.7878, 22.2537]\n",
            "storage [19.4112, 21.7345]\n",
            "tmp [20.7241]\n",
            "tmp [20.7241, 20.8844]\n",
            "tmp [20.7241, 20.8844, 22.1208]\n",
            "tmp [20.7241, 20.8844, 22.1208, 17.2182]\n",
            "tmp [20.7241, 20.8844, 22.1208, 17.2182, 21.7419]\n",
            "tmp [20.7241, 20.8844, 22.1208, 17.2182, 21.7419, 21.6617]\n",
            "tmp [20.7241, 20.8844, 22.1208, 17.2182, 21.7419, 21.6617, 20.1766]\n",
            "tmp [20.7241, 20.8844, 22.1208, 17.2182, 21.7419, 21.6617, 20.1766, 21.5539]\n",
            "tmp [20.7241, 20.8844, 22.1208, 17.2182, 21.7419, 21.6617, 20.1766, 21.5539, 21.7791]\n",
            "tmp [20.7241, 20.8844, 22.1208, 17.2182, 21.7419, 21.6617, 20.1766, 21.5539, 21.7791, 21.1978]\n",
            "storage [19.4112, 21.7345, 20.9058]\n",
            "tmp [20.7133]\n",
            "tmp [20.7133, 22.3871]\n",
            "tmp [20.7133, 22.3871, 22.3432]\n",
            "tmp [20.7133, 22.3871, 22.3432, 21.1224]\n",
            "tmp [20.7133, 22.3871, 22.3432, 21.1224, 20.5865]\n",
            "tmp [20.7133, 22.3871, 22.3432, 21.1224, 20.5865, 22.8437]\n",
            "tmp [20.7133, 22.3871, 22.3432, 21.1224, 20.5865, 22.8437, 22.64]\n",
            "tmp [20.7133, 22.3871, 22.3432, 21.1224, 20.5865, 22.8437, 22.64, 21.501]\n",
            "tmp [20.7133, 22.3871, 22.3432, 21.1224, 20.5865, 22.8437, 22.64, 21.501, 22.2732]\n",
            "tmp [20.7133, 22.3871, 22.3432, 21.1224, 20.5865, 22.8437, 22.64, 21.501, 22.2732, 21.6411]\n",
            "storage [19.4112, 21.7345, 20.9058, 21.8052]\n",
            "tmp [21.1229]\n",
            "tmp [21.1229, 20.355]\n",
            "tmp [21.1229, 20.355, 22.1673]\n",
            "tmp [21.1229, 20.355, 22.1673, 22.3413]\n",
            "tmp [21.1229, 20.355, 22.1673, 22.3413, 21.1668]\n",
            "tmp [21.1229, 20.355, 22.1673, 22.3413, 21.1668, 18.2352]\n",
            "tmp [21.1229, 20.355, 22.1673, 22.3413, 21.1668, 18.2352, 21.0372]\n",
            "tmp [21.1229, 20.355, 22.1673, 22.3413, 21.1668, 18.2352, 21.0372, 20.8498]\n",
            "tmp [21.1229, 20.355, 22.1673, 22.3413, 21.1668, 18.2352, 21.0372, 20.8498, 21.6406]\n",
            "tmp [21.1229, 20.355, 22.1673, 22.3413, 21.1668, 18.2352, 21.0372, 20.8498, 21.6406, 19.8593]\n",
            "storage [19.4112, 21.7345, 20.9058, 21.8052, 20.8775]\n",
            "tmp [21.2264]\n",
            "tmp [21.2264, 21.4886]\n",
            "tmp [21.2264, 21.4886, 20.0976]\n",
            "tmp [21.2264, 21.4886, 20.0976, 21.5857]\n",
            "tmp [21.2264, 21.4886, 20.0976, 21.5857, 20.2706]\n",
            "tmp [21.2264, 21.4886, 20.0976, 21.5857, 20.2706, 22.3685]\n",
            "tmp [21.2264, 21.4886, 20.0976, 21.5857, 20.2706, 22.3685, 21.7769]\n",
            "tmp [21.2264, 21.4886, 20.0976, 21.5857, 20.2706, 22.3685, 21.7769, 21.7451]\n",
            "tmp [21.2264, 21.4886, 20.0976, 21.5857, 20.2706, 22.3685, 21.7769, 21.7451, 21.2158]\n",
            "tmp [21.2264, 21.4886, 20.0976, 21.5857, 20.2706, 22.3685, 21.7769, 21.7451, 21.2158, 19.163]\n",
            "storage [19.4112, 21.7345, 20.9058, 21.8052, 20.8775, 21.0938]\n",
            "tmp [21.1352]\n",
            "tmp [21.1352, 20.9429]\n",
            "tmp [21.1352, 20.9429, 20.8102]\n",
            "tmp [21.1352, 20.9429, 20.8102, 20.8245]\n",
            "tmp [21.1352, 20.9429, 20.8102, 20.8245, 20.511]\n",
            "tmp [21.1352, 20.9429, 20.8102, 20.8245, 20.511, 21.3208]\n",
            "tmp [21.1352, 20.9429, 20.8102, 20.8245, 20.511, 21.3208, 16.4758]\n",
            "tmp [21.1352, 20.9429, 20.8102, 20.8245, 20.511, 21.3208, 16.4758, 21.3645]\n",
            "tmp [21.1352, 20.9429, 20.8102, 20.8245, 20.511, 21.3208, 16.4758, 21.3645, 19.9409]\n",
            "tmp [21.1352, 20.9429, 20.8102, 20.8245, 20.511, 21.3208, 16.4758, 21.3645, 19.9409, 20.5401]\n",
            "storage [19.4112, 21.7345, 20.9058, 21.8052, 20.8775, 21.0938, 20.3866]\n",
            "tmp [21.1896]\n",
            "tmp [21.1896, 21.6045]\n",
            "tmp [21.1896, 21.6045, 22.0376]\n",
            "tmp [21.1896, 21.6045, 22.0376, 21.0852]\n",
            "tmp [21.1896, 21.6045, 22.0376, 21.0852, 21.8964]\n",
            "tmp [21.1896, 21.6045, 22.0376, 21.0852, 21.8964, 21.6411]\n",
            "tmp [21.1896, 21.6045, 22.0376, 21.0852, 21.8964, 21.6411, 21.9009]\n",
            "tmp [21.1896, 21.6045, 22.0376, 21.0852, 21.8964, 21.6411, 21.9009, 22.0075]\n",
            "tmp [21.1896, 21.6045, 22.0376, 21.0852, 21.8964, 21.6411, 21.9009, 22.0075, 21.2001]\n",
            "tmp [21.1896, 21.6045, 22.0376, 21.0852, 21.8964, 21.6411, 21.9009, 22.0075, 21.2001, 21.6292]\n",
            "storage [19.4112, 21.7345, 20.9058, 21.8052, 20.8775, 21.0938, 20.3866, 21.6192]\n",
            "tmp [21.3876]\n",
            "tmp [21.3876, 20.8866]\n",
            "tmp [21.3876, 20.8866, 21.8841]\n",
            "tmp [21.3876, 20.8866, 21.8841, 20.2856]\n",
            "tmp [21.3876, 20.8866, 21.8841, 20.2856, 21.686]\n",
            "tmp [21.3876, 20.8866, 21.8841, 20.2856, 21.686, 21.763]\n",
            "tmp [21.3876, 20.8866, 21.8841, 20.2856, 21.686, 21.763, 21.6049]\n",
            "tmp [21.3876, 20.8866, 21.8841, 20.2856, 21.686, 21.763, 21.6049, 18.3217]\n",
            "tmp [21.3876, 20.8866, 21.8841, 20.2856, 21.686, 21.763, 21.6049, 18.3217, 20.7308]\n",
            "tmp [21.3876, 20.8866, 21.8841, 20.2856, 21.686, 21.763, 21.6049, 18.3217, 20.7308, 21.7328]\n",
            "storage [19.4112, 21.7345, 20.9058, 21.8052, 20.8775, 21.0938, 20.3866, 21.6192, 21.0283]\n",
            "tmp [22.4107]\n",
            "Ignoring empty camera frame.\n",
            "store_MP_fps [19.4112, 21.7345, 20.9058, 21.8052, 20.8775, 21.0938, 20.3866, 21.6192, 21.0283]\n"
          ]
        }
      ]
    },
    {
      "cell_type": "code",
      "source": [
        "import numpy as np\n",
        "import matplotlib.pyplot as plt\n",
        "O = [0.162, 0.162, 0.1628, 0.1632, 0.1626, 0.1627, 0.1631, 0.1625, 0.1639, 0.1638]\n",
        "M = [19.4112, 21.7345, 20.9058, 21.8052, 20.8775, 21.0938, 20.3866, 21.6192, 21.0283, 22.4107]\n",
        "x = [1,2,3,4,5,6,7,8,9,10]\n",
        "\n",
        "lf, = plt.plot(x,O,'b--',label='OpenPose')  #OpenPose\n",
        "lm, = plt.plot(x,M,'g--',label='Mediapipe')  #mediapipe\n",
        "\n",
        "plt.figure(dpi=170)\n",
        "plt.plot(x,O,'bo-',x,M,'g+-')\n",
        "plt.title('Comparison between Mediapipe and OpenPose')\n",
        "plt.xlabel(\"group number of frames\")\n",
        "plt.ylabel(\"average FPS\")\n",
        "plt.legend([lf,lm],[\"OpenPose\", \"Mediapipe\"])\n",
        "\n",
        "plt.show()"
      ],
      "metadata": {
        "colab": {
          "base_uri": "https://localhost:8080/",
          "height": 922
        },
        "id": "1AyK7CtzVi87",
        "outputId": "4bb4b6db-49c8-44c0-bf8d-a0021fc630ab"
      },
      "execution_count": null,
      "outputs": [
        {
          "output_type": "display_data",
          "data": {
            "text/plain": [
              "<Figure size 432x288 with 1 Axes>"
            ],
            "image/png": "[encoded data removed]"
          },
          "metadata": {
            "needs_background": "light"
          }
        },
        {
          "output_type": "display_data",
          "data": {
            "text/plain": [
              "<Figure size 1020x680 with 1 Axes>"
            ],
            "image/png": "[encoded data removed]"
          },
          "metadata": {
            "needs_background": "light"
          }
        }
      ]
    }
  ]
}